{
  "nbformat": 4,
  "nbformat_minor": 0,
  "metadata": {
    "colab": {
      "name": "MyPythonProject.ipynb",
      "provenance": [],
      "authorship_tag": "ABX9TyME+xWByYpZWPNA6zdnpgRs",
      "include_colab_link": true
    },
    "kernelspec": {
      "name": "python3",
      "display_name": "Python 3"
    },
    "language_info": {
      "name": "python"
    }
  },
  "cells": [
    {
      "cell_type": "markdown",
      "metadata": {
        "id": "view-in-github",
        "colab_type": "text"
      },
      "source": [
        "<a href=\"https://colab.research.google.com/github/kevshakes/Python-and-Machine-Learning/blob/main/MyPythonProject.ipynb\" target=\"_parent\"><img src=\"https://colab.research.google.com/assets/colab-badge.svg\" alt=\"Open In Colab\"/></a>"
      ]
    },
    {
      "cell_type": "code",
      "execution_count": 1,
      "metadata": {
        "id": "Fcpjhipi-2Oc"
      },
      "outputs": [],
      "source": [
        "students = [\"Kevin\", \"Tuei\"]"
      ]
    },
    {
      "cell_type": "code",
      "source": [
        "for student in students:\n",
        "  print(student)"
      ],
      "metadata": {
        "colab": {
          "base_uri": "https://localhost:8080/"
        },
        "id": "clxWRyjt_MNW",
        "outputId": "d42c8f95-682b-4efb-bcb5-1f943ca99757"
      },
      "execution_count": 4,
      "outputs": [
        {
          "output_type": "stream",
          "name": "stdout",
          "text": [
            "Kevin\n",
            "Tuei\n"
          ]
        }
      ]
    }
  ]
}